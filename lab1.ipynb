{
 "cells": [
  {
   "cell_type": "code",
   "execution_count": 25,
   "id": "60c20587",
   "metadata": {},
   "outputs": [],
   "source": [
    "from scipy.stats import norm\n",
    "from csv import writer\n",
    "from numpy import random, pi, cos, sin"
   ]
  },
  {
   "cell_type": "code",
   "execution_count": 26,
   "id": "8df2df17",
   "metadata": {},
   "outputs": [],
   "source": [
    "# pozioma powierzchnia\n",
    "\n",
    "points_x = norm(loc=100, scale=25).rvs(1500)\n",
    "points_y = norm(loc=100, scale=10).rvs(1500)\n",
    "points_z = norm(loc=0, scale=0.05).rvs(1500)\n",
    "\n",
    "horizontal_points = zip(points_x,points_y,points_z)\n",
    "\n",
    "f = open(\"horizontal.xyz\", \"w\")\n",
    "for x, y, z in horizontal_points: \n",
    "    f.write(f\"{x}, {y}, {z}\\n\")\n",
    "f.close()"
   ]
  },
  {
   "cell_type": "code",
   "execution_count": 27,
   "id": "b660e416",
   "metadata": {},
   "outputs": [],
   "source": [
    "# pionowa powierzchnia\n",
    "\n",
    "points_x = norm(loc=-100, scale=15).rvs(1500)\n",
    "points_y = norm(loc=-10, scale=0.05).rvs(1500)\n",
    "points_z = norm(loc=20, scale=30).rvs(1500)\n",
    "\n",
    "vertical_points = zip(points_x,points_y,points_z)\n",
    "\n",
    "f = open(\"vertical.xyz\", \"w\")\n",
    "for x, y, z in vertical_points: \n",
    "    f.write(f\"{x}, {y}, {z}\\n\")\n",
    "f.close()"
   ]
  },
  {
   "cell_type": "code",
   "execution_count": 28,
   "id": "cd2eaaa0",
   "metadata": {},
   "outputs": [],
   "source": [
    "# powierzchnia cylindryczna\n",
    "\n",
    "theta = random.uniform(0, 2*pi, 1500)\n",
    "points_x = 10*cos(theta)\n",
    "points_y = 10*sin(theta) + 60 \n",
    "points_z = norm(loc=0, scale=50).rvs(1500)  \n",
    "\n",
    "cylinder_points = zip(points_x,points_y,points_z)\n",
    "\n",
    "f = open(\"cylinder.xyz\", \"w\")\n",
    "for x, y, z in cylinder_points: \n",
    "    f.write(f\"{x}, {y}, {z}\\n\")\n",
    "f.close()"
   ]
  }
 ],
 "metadata": {
  "kernelspec": {
   "display_name": "Python 3",
   "language": "python",
   "name": "python3"
  },
  "language_info": {
   "codemirror_mode": {
    "name": "ipython",
    "version": 3
   },
   "file_extension": ".py",
   "mimetype": "text/x-python",
   "name": "python",
   "nbconvert_exporter": "python",
   "pygments_lexer": "ipython3",
   "version": "3.11.2"
  }
 },
 "nbformat": 4,
 "nbformat_minor": 5
}
