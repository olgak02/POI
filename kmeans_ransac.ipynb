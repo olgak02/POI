{
 "cells": [
  {
   "cell_type": "code",
   "execution_count": 1,
   "id": "1e561126",
   "metadata": {},
   "outputs": [],
   "source": [
    "import csv\n",
    "from os.path import join\n",
    "from numpy import array, random, linalg, cross, multiply, where, column_stack, ones_like,zeros_like, sqrt, concatenate,mean\n",
    "from sklearn.cluster import KMeans"
   ]
  },
  {
   "cell_type": "code",
   "execution_count": 2,
   "id": "396d4915",
   "metadata": {},
   "outputs": [],
   "source": [
    "def points_reader(file_path: str):\n",
    "    with open(file_path, newline='') as csvfile:\n",
    "        reader = csv.reader(csvfile, delimiter=',')\n",
    "        next(reader)\n",
    "        for x,y,z in reader:\n",
    "            yield float(x),float(y),float(z)"
   ]
  },
  {
   "cell_type": "code",
   "execution_count": 3,
   "id": "065d1882",
   "metadata": {},
   "outputs": [],
   "source": [
    "working_dir = R'D:\\Programy\\Documents\\II_EiT\\POI'\n",
    "\n",
    "vertical_file_path = join(working_dir, 'vertical.xyz')\n",
    "horizontal_file_path = join(working_dir, 'horizontal.xyz')\n",
    "cylinder_file_path = join(working_dir, 'cylinder.xyz')\n",
    "    \n",
    "vertical_points = array([x for x in points_reader(vertical_file_path)])\n",
    "horizontal_points = array([x for x in points_reader(horizontal_file_path)])\n",
    "cylinder_points = array([x for x in points_reader(cylinder_file_path)])\n",
    "all_clouds = concatenate([vertical_points, horizontal_points, cylinder_points])"
   ]
  },
  {
   "cell_type": "code",
   "execution_count": 4,
   "id": "0f09f985",
   "metadata": {},
   "outputs": [],
   "source": [
    "kmeans = KMeans(n_clusters=3, random_state=0, n_init=\"auto\").fit(all_clouds).predict(all_clouds)\n",
    "points0 =[]\n",
    "points1=[]\n",
    "points2=[]\n",
    "for i in range(len(kmeans)):\n",
    "    if kmeans[i] == 0:\n",
    "        points0.append(all_clouds[i])\n",
    "    elif kmeans[i] == 1:\n",
    "        points1.append(all_clouds[i])\n",
    "    else:\n",
    "        points2.append(all_clouds[i])\n",
    "points0 = array(points0)\n",
    "points1 = array(points1)\n",
    "points2 = array(points2)"
   ]
  },
  {
   "cell_type": "code",
   "execution_count": 5,
   "id": "82d4da79",
   "metadata": {},
   "outputs": [],
   "source": [
    "def ransac(all_points):\n",
    "    t = 0.1\n",
    "    d = 0\n",
    "    best_points = []\n",
    "    i=0\n",
    "    while i<500:\n",
    "        random_points = [all_points[x] for x in random.randint(len(all_points), size=3)] #3 losowe punkty\n",
    "        #wektory na podstawie punktow\n",
    "        vector1 = random_points[1] - random_points[0]\n",
    "        vector2 = random_points[2] - random_points[0]\n",
    "        #wektory normalne do wyznaczonych\n",
    "        u1 = vector1/linalg.norm(vector1)\n",
    "        u2 = vector2/linalg.norm(vector2)\n",
    "        #rownanie plaszczyzny Wx*x+Wy*y+Wz*z+D=0\n",
    "        W = cross(u1,u2) #wektor normalny do plaszczyzny\n",
    "        D = -multiply(W, random_points[0]) #odsuniecie od poczatku ukladu wsp\n",
    "\n",
    "        inliers =[]\n",
    "        for x in range(len(all_points)):\n",
    "            distance= ((((W[0]*all_points[x,0]+D[0])+(W[1]*all_points[x,1]+D[1])+(W[2]*all_points[x,2]+D[2])))/sqrt((W[0]**2)+(W[1]**2)+(W[2]**2)))\n",
    "            if abs(distance)<t:\n",
    "                inliers.append(all_points[x])\n",
    "\n",
    "        model_size = len(inliers)\n",
    "        if model_size > d:\n",
    "            best_points = array(inliers)\n",
    "        i = i+1\n",
    "    \n",
    "    # Dopasowanie plaszczyzny metodą najmniejszych kwadratów do najlepszych punktów\n",
    "    A = column_stack((best_points[:,0],best_points[:,1] ,ones_like(best_points[:,0])))\n",
    "    B = best_points[:,2]\n",
    "    params = linalg.lstsq(A, B, rcond=None)[0]\n",
    "    A,B,C = params\n",
    "    D_values = - (A * best_points[:, 0] + B * best_points[:, 1] + C * best_points[:, 2])\n",
    "    D = mean(D_values)\n",
    "    \n",
    "    return [A,B,C,D]"
   ]
  },
  {
   "cell_type": "code",
   "execution_count": 6,
   "id": "c87e6656",
   "metadata": {},
   "outputs": [
    {
     "name": "stderr",
     "output_type": "stream",
     "text": [
      "C:\\Users\\olgak\\AppData\\Local\\Temp\\ipykernel_8472\\2511174905.py:13: RuntimeWarning: invalid value encountered in divide\n",
      "  u2 = vector2/linalg.norm(vector2)\n",
      "C:\\Users\\olgak\\AppData\\Local\\Temp\\ipykernel_8472\\2511174905.py:20: RuntimeWarning: invalid value encountered in scalar divide\n",
      "  distance= ((((W[0]*all_points[x,0]+D[0])+(W[1]*all_points[x,1]+D[1])+(W[2]*all_points[x,2]+D[2])))/sqrt((W[0]**2)+(W[1]**2)+(W[2]**2)))\n",
      "C:\\Users\\olgak\\AppData\\Local\\Temp\\ipykernel_8472\\2511174905.py:12: RuntimeWarning: invalid value encountered in divide\n",
      "  u1 = vector1/linalg.norm(vector1)\n"
     ]
    }
   ],
   "source": [
    "vector_points0 = ransac(points0)\n",
    "vector_points1 = ransac(points1)\n",
    "vector_points2 = ransac(points2)"
   ]
  },
  {
   "cell_type": "code",
   "execution_count": 7,
   "id": "c7f35483",
   "metadata": {},
   "outputs": [],
   "source": [
    "def distance_point_plane(abcd,xyz):\n",
    "\n",
    "    numerator = abs(abcd[0] * xyz[0] + abcd[1] * xyz[1] + abcd[2] * xyz[2] + abcd[3])\n",
    "    denominator = sqrt(abcd[0]**2+abcd[1]**2+abcd[2]**2)\n",
    "    return numerator / denominator\n",
    "\n",
    "distance0=[]\n",
    "distance1=[]\n",
    "distance2=[]\n",
    "for i in range(len(points0)):\n",
    "    distance0.append(distance_point_plane(vector_points0, points0[i]))\n",
    "for i in range(len(points1)):\n",
    "    distance1.append(distance_point_plane(vector_points1, points1[i]))\n",
    "for i in range(len(points2)):\n",
    "    distance2.append(distance_point_plane(vector_points2, points2[i]))\n",
    "distance0 = mean(distance0)\n",
    "distance1 = mean(distance1)\n",
    "distance2 = mean(distance2)"
   ]
  },
  {
   "cell_type": "code",
   "execution_count": 8,
   "id": "05fe9c47",
   "metadata": {},
   "outputs": [
    {
     "name": "stdout",
     "output_type": "stream",
     "text": [
      "parametry wektora 0: [-2.4685073877585153e-05, 0.00024905278409662025, -0.036696386263785]\n",
      "parametry wektora 1: [-0.049526092439921225, 22.682519970551493, 242.74718383467382]\n",
      "parametry wektora 2: [-30.430472309443203, 4.606502646100399, -547.6508712109597]\n",
      "Chmura 2 nie jest płaszczyzną\n",
      "Płaszczyzna 0 jest pionowa\n",
      "Płaszczyzna 1 jest pozioma\n"
     ]
    }
   ],
   "source": [
    "print(\"parametry wektora 0:\",vector_points0[:3])\n",
    "print(\"parametry wektora 1:\",vector_points1[:3])\n",
    "print(\"parametry wektora 2:\",vector_points2[:3])\n",
    "\n",
    "if distance0>distance1 and distance0>distance2:\n",
    "    print(\"Chmura 0 nie jest płaszczyzną\")\n",
    "    if vector_points1[2]>vector_points1[0] and vector_points1[2]>vector_points1[1]:\n",
    "        print(\"Płaszczyzna 1 jest pozioma\")\n",
    "    else:\n",
    "        print(\"Płaszczyzna 1 jest pionowa\")\n",
    "    if vector_points2[2]>vector_points2[0] and vector_points2[2]>vector_points2[1]:\n",
    "        print(\"Płaszczyzna 2 jest pozioma\")\n",
    "    else:\n",
    "        print(\"Płaszczyzna 2 jest pionowa\")\n",
    "if distance1>distance0 and distance1>distance2:\n",
    "    print(\"Chmura 1 nie jest płaszczyzną\")\n",
    "    if vector_points0[2]>vector_points0[0] and vector_points0[2]>vector_points0[1]:\n",
    "        print(\"Płaszczyzna 0 jest pozioma\")\n",
    "    else:\n",
    "        print(\"Płaszczyzna 0 jest pionowa\")\n",
    "    if vector_points2[2]>vector_points2[0] and vector_points2[2]>vector_points2[1]:\n",
    "        print(\"Płaszczyzna 2 jest pozioma\")\n",
    "    else:\n",
    "        print(\"Płaszczyzna 2 jest pionowa\")\n",
    "if distance2>distance1 and distance2>distance0:\n",
    "    print(\"Chmura 2 nie jest płaszczyzną\")\n",
    "    if vector_points0[2]>vector_points0[0] and vector_points0[2]>vector_points0[1]:\n",
    "        print(\"Płaszczyzna 0 jest pozioma\")\n",
    "    else:\n",
    "        print(\"Płaszczyzna 0 jest pionowa\")\n",
    "    if vector_points1[2]>vector_points1[0] and vector_points1[2]>vector_points1[1]:\n",
    "        print(\"Płaszczyzna 1 jest pozioma\")\n",
    "    else:\n",
    "        print(\"Płaszczyzna 1 jest pionowa\")"
   ]
  },
  {
   "cell_type": "code",
   "execution_count": null,
   "id": "7aa1faf2",
   "metadata": {},
   "outputs": [],
   "source": []
  }
 ],
 "metadata": {
  "kernelspec": {
   "display_name": "Python 3",
   "language": "python",
   "name": "python3"
  },
  "language_info": {
   "codemirror_mode": {
    "name": "ipython",
    "version": 3
   },
   "file_extension": ".py",
   "mimetype": "text/x-python",
   "name": "python",
   "nbconvert_exporter": "python",
   "pygments_lexer": "ipython3",
   "version": "3.11.2"
  }
 },
 "nbformat": 4,
 "nbformat_minor": 5
}
