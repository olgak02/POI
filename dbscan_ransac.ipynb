{
 "cells": [
  {
   "cell_type": "code",
   "execution_count": 46,
   "id": "4725d5f8",
   "metadata": {},
   "outputs": [],
   "source": [
    "import csv\n",
    "from os.path import join\n",
    "from numpy import array, random, linalg, cross, multiply, where, column_stack, ones_like,zeros_like, sqrt, concatenate,mean\n",
    "from sklearn.cluster import DBSCAN\n",
    "import pyransac3d"
   ]
  },
  {
   "cell_type": "code",
   "execution_count": 47,
   "id": "00a8fb1a",
   "metadata": {},
   "outputs": [],
   "source": [
    "def points_reader(file_path: str):\n",
    "    with open(file_path, newline='') as csvfile:\n",
    "        reader = csv.reader(csvfile, delimiter=',')\n",
    "        next(reader)\n",
    "        for x,y,z in reader:\n",
    "            yield float(x),float(y),float(z)"
   ]
  },
  {
   "cell_type": "code",
   "execution_count": 48,
   "id": "bfa4405e",
   "metadata": {},
   "outputs": [],
   "source": [
    "working_dir = R'D:\\Programy\\Documents\\II_EiT\\POI'\n",
    "\n",
    "vertical_file_path = join(working_dir, 'vertical.xyz')\n",
    "horizontal_file_path = join(working_dir, 'horizontal.xyz')\n",
    "cylinder_file_path = join(working_dir, 'cylinder.xyz')\n",
    "    \n",
    "vertical_points = array([x for x in points_reader(vertical_file_path)])\n",
    "horizontal_points = array([x for x in points_reader(horizontal_file_path)])\n",
    "cylinder_points = array([x for x in points_reader(cylinder_file_path)])\n",
    "all_clouds = concatenate([vertical_points, horizontal_points, cylinder_points])"
   ]
  },
  {
   "cell_type": "code",
   "execution_count": 49,
   "id": "d69f1f76",
   "metadata": {},
   "outputs": [],
   "source": [
    "dbscan = DBSCAN(eps=40, min_samples=800).fit(all_clouds).labels_\n",
    "\n",
    "points0 =[]\n",
    "points1=[]\n",
    "points2=[]\n",
    "for i in range(len(dbscan)):\n",
    "    if dbscan[i] == 0:\n",
    "        points0.append(all_clouds[i])\n",
    "    elif dbscan[i] == 1:\n",
    "        points1.append(all_clouds[i])\n",
    "    elif dbscan[i] == 2:\n",
    "        points2.append(all_clouds[i])\n",
    "points0 = array(points0)\n",
    "points1 = array(points1)\n",
    "points2 = array(points2)"
   ]
  },
  {
   "cell_type": "code",
   "execution_count": 50,
   "id": "0a5d2e58",
   "metadata": {},
   "outputs": [],
   "source": [
    "def distance_point_plane(abcd,xyz):\n",
    "\n",
    "    numerator = abs(abcd[0] * xyz[0] + abcd[1] * xyz[1] + abcd[2] * xyz[2] + abcd[3])\n",
    "    denominator = sqrt(abcd[0]**2+abcd[1]**2+abcd[2]**2)\n",
    "    return numerator / denominator\n",
    "\n",
    "\n",
    "plane = pyransac3d.Plane()"
   ]
  },
  {
   "cell_type": "code",
   "execution_count": 51,
   "id": "5de4dac1",
   "metadata": {},
   "outputs": [],
   "source": [
    "(normal_vector, inliers) = plane.fit(points0, thresh=0.01, maxIteration=1000)  # Poprawione przypisanie\n",
    "A,B,C,D = normal_vector\n",
    "# Wektor normalny płaszczyzny\n",
    "normal_vector0 = array([A, B, C])\n",
    "normal_vector0 /= linalg.norm(normal_vector)  # Normalizacja\n",
    "\n",
    "\n",
    "distance0=[]\n",
    "for i in range(len(points0)):\n",
    "    distance0.append(distance_point_plane([A,B,C,D], points0[i]))\n",
    "distance0 = mean(distance0)\n",
    "\n"
   ]
  },
  {
   "cell_type": "code",
   "execution_count": 52,
   "id": "77e94296",
   "metadata": {},
   "outputs": [],
   "source": [
    "(normal_vector, inliers) = plane.fit(points1, thresh=0.01, maxIteration=1000)  # Poprawione przypisanie\n",
    "A,B,C,D = normal_vector\n",
    "# Wektor normalny płaszczyzny\n",
    "normal_vector1 = array([A, B, C])\n",
    "normal_vector1 /= linalg.norm(normal_vector)  # Normalizacja\n",
    "\n",
    "\n",
    "distance1=[]\n",
    "for i in range(len(points1)):\n",
    "    distance1.append(distance_point_plane([A,B,C,D], points1[i]))\n",
    "distance1 = mean(distance1)"
   ]
  },
  {
   "cell_type": "code",
   "execution_count": 53,
   "id": "f66eec3e",
   "metadata": {},
   "outputs": [],
   "source": [
    "(normal_vector, inliers) = plane.fit(points2, thresh=0.01, maxIteration=1000)  # Poprawione przypisanie\n",
    "A,B,C,D = normal_vector\n",
    "# Wektor normalny płaszczyzny\n",
    "normal_vector2 = array([A, B, C])\n",
    "normal_vector2 /= linalg.norm(normal_vector)  # Normalizacja\n",
    "\n",
    "\n",
    "distance2=[]\n",
    "for i in range(len(points2)):\n",
    "    distance2.append(distance_point_plane([A,B,C,D], points2[i]))\n",
    "distance2 = mean(distance2)"
   ]
  },
  {
   "cell_type": "code",
   "execution_count": 56,
   "id": "ad8a228b",
   "metadata": {},
   "outputs": [
    {
     "name": "stdout",
     "output_type": "stream",
     "text": [
      "Wektor normalny punktow 0: [-1.32551160e-05 -9.93714923e-02  2.50118742e-05]\n",
      "Wektor normalny punktow 1: [-4.40184272e-04 -5.34364052e-06 -9.99519021e-01]\n",
      "Wektor normalny punktow 2: [-2.87120342e-01 -3.21688114e-02  1.15286669e-04]\n",
      "Chmura 2 nie jest płaszczyzną\n",
      "Płaszczyzna 0 jest pozioma\n",
      "Płaszczyzna 1 jest pionowa\n"
     ]
    }
   ],
   "source": [
    "print(\"Wektor normalny punktow 0:\", normal_vector0)\n",
    "print(\"Wektor normalny punktow 1:\", normal_vector1)\n",
    "print(\"Wektor normalny punktow 2:\", normal_vector2)\n",
    "\n",
    "if distance0>distance1 and distance0>distance2:\n",
    "    print(\"Chmura 0 nie jest płaszczyzną\")\n",
    "    if normal_vector1[2]>normal_vector1[0] and normal_vector1[2]>normal_vector1[1]:\n",
    "        print(\"Płaszczyzna 1 jest pozioma\")\n",
    "    else:\n",
    "        print(\"Płaszczyzna 1 jest pionowa\")\n",
    "    if normal_vector2[2]>normal_vector2[0] and normal_vector2[2]>normal_vector2[1]:\n",
    "        print(\"Płaszczyzna 2 jest pozioma\")\n",
    "    else:\n",
    "        print(\"Płaszczyzna 2 jest pionowa\")\n",
    "if distance1>distance0 and distance1>distance2:\n",
    "    print(\"Chmura 1 nie jest płaszczyzną\")\n",
    "    if normal_vector0[2]>normal_vector0[0] and normal_vector0[2]>normal_vector0[1]:\n",
    "        print(\"Płaszczyzna 0 jest pozioma\")\n",
    "    else:\n",
    "        print(\"Płaszczyzna 0 jest pionowa\")\n",
    "    if normal_vector2[2]>normal_vector2[0] and normal_vector2[2]>normal_vector2[1]:\n",
    "        print(\"Płaszczyzna 2 jest pozioma\")\n",
    "    else:\n",
    "        print(\"Płaszczyzna 2 jest pionowa\")\n",
    "if distance2>distance1 and distance2>distance0:\n",
    "    print(\"Chmura 2 nie jest płaszczyzną\")\n",
    "    if normal_vector0[2]>normal_vector0[0] and normal_vector0[2]>normal_vector0[1]:\n",
    "        print(\"Płaszczyzna 0 jest pozioma\")\n",
    "    else:\n",
    "        print(\"Płaszczyzna 0 jest pionowa\")\n",
    "    if normal_vector1[2]>normal_vector1[0] and normal_vector1[2]>normal_vector1[1]:\n",
    "        print(\"Płaszczyzna 1 jest pozioma\")\n",
    "    else:\n",
    "        print(\"Płaszczyzna 1 jest pionowa\")"
   ]
  },
  {
   "cell_type": "code",
   "execution_count": null,
   "id": "7295776d",
   "metadata": {},
   "outputs": [],
   "source": []
  }
 ],
 "metadata": {
  "kernelspec": {
   "display_name": "Python 3",
   "language": "python",
   "name": "python3"
  },
  "language_info": {
   "codemirror_mode": {
    "name": "ipython",
    "version": 3
   },
   "file_extension": ".py",
   "mimetype": "text/x-python",
   "name": "python",
   "nbconvert_exporter": "python",
   "pygments_lexer": "ipython3",
   "version": "3.11.2"
  }
 },
 "nbformat": 4,
 "nbformat_minor": 5
}
