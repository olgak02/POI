{
 "cells": [
  {
   "cell_type": "markdown",
   "id": "1f75c99c",
   "metadata": {},
   "source": [
    "Zaimportowanie bibliotek:"
   ]
  },
  {
   "cell_type": "code",
   "execution_count": 1,
   "id": "89a1dd8f",
   "metadata": {},
   "outputs": [
    {
     "name": "stdout",
     "output_type": "stream",
     "text": [
      "WARNING:tensorflow:From d:\\Programy\\Aplikacje\\Anaconda\\lib\\site-packages\\keras\\src\\losses.py:2976: The name tf.losses.sparse_softmax_cross_entropy is deprecated. Please use tf.compat.v1.losses.sparse_softmax_cross_entropy instead.\n",
      "\n"
     ]
    }
   ],
   "source": [
    "from os import listdir\n",
    "from os.path import join\n",
    "import numpy as np\n",
    "import skimage.io as sk_io\n",
    "from tensorflow.keras.models import Sequential\n",
    "from tensorflow.keras.layers import Dense, Conv2D, Flatten, MaxPooling2D\n",
    "from sklearn.model_selection import train_test_split\n",
    "from sklearn.preprocessing import OneHotEncoder\n",
    "from sklearn.metrics import accuracy_score, confusion_matrix"
   ]
  },
  {
   "cell_type": "markdown",
   "id": "dc151db4",
   "metadata": {},
   "source": [
    "Wczytanie próbek i etykiet, zapis gotowych plików:"
   ]
  },
  {
   "cell_type": "code",
   "execution_count": 2,
   "id": "1cf1fa64",
   "metadata": {},
   "outputs": [
    {
     "name": "stdout",
     "output_type": "stream",
     "text": [
      "0\n",
      "1\n",
      "2\n",
      "3\n",
      "4\n",
      "5\n"
     ]
    }
   ],
   "source": [
    "def get_samples():\n",
    "    lista = [\"szafy\",\"drzwi\",\"drabina\",\"lampy\",\"krzesła\",\"biurka\"]\n",
    "    X = np.zeros([1,2])\n",
    "    Y = []\n",
    "    for i in range(len(lista)):\n",
    "        folder_path = (R'./'+lista[i]+'/')\n",
    "        print(i)\n",
    "        for j in range(len(listdir(folder_path))):\n",
    "            element_path = join(folder_path, listdir(folder_path)[j])\n",
    "            sample = np.array([(sk_io.imread(element_path))])\n",
    "            Y.append(i)\n",
    "            if j == 0 and i == 0:\n",
    "                X = sample\n",
    "            else:\n",
    "                X = np.concatenate([X, sample], axis=0)\n",
    "        np.save(\"X_lab5.npy\", X)\n",
    "        np.save(\"Y_lab5.npy\", np.array(Y).reshape([-1]))\n",
    "get_samples()"
   ]
  },
  {
   "cell_type": "markdown",
   "id": "8a0d9030",
   "metadata": {},
   "source": [
    "Wczytanie plików z danymi i etykietami:"
   ]
  },
  {
   "cell_type": "code",
   "execution_count": 15,
   "id": "80888f25",
   "metadata": {},
   "outputs": [],
   "source": [
    "X = np.load(\"X_lab5.npy\")\n",
    "Y = np.load(\"Y_lab5.npy\")\n",
    "\n",
    "#onehotenc = OneHotEncoder(sparse_output=False)\n",
    "#Y = onehotenc.fit_transform(Y.reshape(-1, 1))"
   ]
  },
  {
   "cell_type": "markdown",
   "id": "b199b212",
   "metadata": {},
   "source": [
    "Podział próbek na treningowe i testowe:"
   ]
  },
  {
   "cell_type": "code",
   "execution_count": 16,
   "id": "a3260608",
   "metadata": {},
   "outputs": [],
   "source": [
    "X_train, X_test, y_train, y_test = train_test_split(X, Y, test_size=0.3)"
   ]
  },
  {
   "cell_type": "markdown",
   "id": "2ac32b21",
   "metadata": {},
   "source": [
    "Budowa modelu i uruchomienie uczenia:"
   ]
  },
  {
   "cell_type": "code",
   "execution_count": 48,
   "id": "fc9cc050",
   "metadata": {},
   "outputs": [
    {
     "name": "stdout",
     "output_type": "stream",
     "text": [
      "Epoch 1/25\n",
      "8/8 [==============================] - 21s 3s/step - loss: 91.8347 - accuracy: 0.1746 - val_loss: 28.4124 - val_accuracy: 0.1759\n",
      "Epoch 2/25\n",
      "8/8 [==============================] - 19s 2s/step - loss: 12.8929 - accuracy: 0.1984 - val_loss: 1.9314 - val_accuracy: 0.1914\n",
      "Epoch 3/25\n",
      "8/8 [==============================] - 19s 2s/step - loss: 1.6209 - accuracy: 0.3201 - val_loss: 1.6272 - val_accuracy: 0.3364\n",
      "Epoch 4/25\n",
      "8/8 [==============================] - 19s 2s/step - loss: 1.3875 - accuracy: 0.4656 - val_loss: 1.6121 - val_accuracy: 0.3642\n",
      "Epoch 5/25\n",
      "8/8 [==============================] - 19s 2s/step - loss: 1.1765 - accuracy: 0.6045 - val_loss: 1.7698 - val_accuracy: 0.4599\n",
      "Epoch 6/25\n",
      "8/8 [==============================] - 19s 2s/step - loss: 0.8754 - accuracy: 0.6918 - val_loss: 1.8745 - val_accuracy: 0.4537\n",
      "Epoch 7/25\n",
      "8/8 [==============================] - 20s 3s/step - loss: 0.7707 - accuracy: 0.7526 - val_loss: 1.6740 - val_accuracy: 0.4383\n",
      "Epoch 8/25\n",
      "8/8 [==============================] - 19s 2s/step - loss: 0.8515 - accuracy: 0.7725 - val_loss: 1.9817 - val_accuracy: 0.4568\n",
      "Epoch 9/25\n",
      "8/8 [==============================] - 19s 2s/step - loss: 0.5009 - accuracy: 0.8347 - val_loss: 2.7714 - val_accuracy: 0.5278\n",
      "Epoch 10/25\n",
      "8/8 [==============================] - 19s 2s/step - loss: 0.3828 - accuracy: 0.8796 - val_loss: 2.1775 - val_accuracy: 0.4969\n",
      "Epoch 11/25\n",
      "8/8 [==============================] - 19s 2s/step - loss: 0.2595 - accuracy: 0.9087 - val_loss: 2.6764 - val_accuracy: 0.5309\n",
      "Epoch 12/25\n",
      "8/8 [==============================] - 19s 2s/step - loss: 0.3026 - accuracy: 0.9246 - val_loss: 2.4185 - val_accuracy: 0.4784\n",
      "Epoch 13/25\n",
      "8/8 [==============================] - 19s 2s/step - loss: 0.2644 - accuracy: 0.9246 - val_loss: 3.2667 - val_accuracy: 0.5278\n",
      "Epoch 14/25\n",
      "8/8 [==============================] - 19s 2s/step - loss: 0.1364 - accuracy: 0.9630 - val_loss: 3.2981 - val_accuracy: 0.5154\n",
      "Epoch 15/25\n",
      "8/8 [==============================] - 20s 3s/step - loss: 0.1100 - accuracy: 0.9788 - val_loss: 3.4393 - val_accuracy: 0.5216\n",
      "Epoch 16/25\n",
      "8/8 [==============================] - 20s 2s/step - loss: 0.0854 - accuracy: 0.9815 - val_loss: 3.3206 - val_accuracy: 0.5494\n",
      "Epoch 17/25\n",
      "8/8 [==============================] - 21s 3s/step - loss: 0.0628 - accuracy: 0.9841 - val_loss: 3.5569 - val_accuracy: 0.5432\n",
      "Epoch 18/25\n",
      "8/8 [==============================] - 20s 3s/step - loss: 0.0328 - accuracy: 0.9960 - val_loss: 3.6195 - val_accuracy: 0.5617\n",
      "Epoch 19/25\n",
      "8/8 [==============================] - 20s 2s/step - loss: 0.0292 - accuracy: 0.9921 - val_loss: 3.7209 - val_accuracy: 0.5525\n",
      "Epoch 20/25\n",
      "8/8 [==============================] - 20s 2s/step - loss: 0.0192 - accuracy: 0.9974 - val_loss: 4.1306 - val_accuracy: 0.5432\n",
      "Epoch 21/25\n",
      "8/8 [==============================] - 19s 2s/step - loss: 0.0115 - accuracy: 1.0000 - val_loss: 4.0487 - val_accuracy: 0.5617\n",
      "Epoch 22/25\n",
      "8/8 [==============================] - 19s 2s/step - loss: 0.0087 - accuracy: 1.0000 - val_loss: 4.1887 - val_accuracy: 0.5525\n",
      "Epoch 23/25\n",
      "8/8 [==============================] - 20s 2s/step - loss: 0.0063 - accuracy: 1.0000 - val_loss: 4.3743 - val_accuracy: 0.5586\n",
      "Epoch 24/25\n",
      "8/8 [==============================] - 19s 2s/step - loss: 0.0069 - accuracy: 1.0000 - val_loss: 4.3970 - val_accuracy: 0.5494\n",
      "Epoch 25/25\n",
      "8/8 [==============================] - 19s 2s/step - loss: 0.0053 - accuracy: 1.0000 - val_loss: 4.6525 - val_accuracy: 0.5463\n"
     ]
    },
    {
     "data": {
      "text/plain": [
       "<keras.src.callbacks.History at 0x240ad6024a0>"
      ]
     },
     "execution_count": 48,
     "metadata": {},
     "output_type": "execute_result"
    }
   ],
   "source": [
    "model = Sequential()\n",
    "\n",
    "# Dodaj warstwy modelu\n",
    "model.add(Conv2D(64, kernel_size=3, activation='relu', input_shape=(256, 256, 3)))\n",
    "model.add(MaxPooling2D(pool_size=(2, 2)))\n",
    "model.add(Conv2D(64, kernel_size=3, activation='relu'))\n",
    "model.add(MaxPooling2D(pool_size=(2, 2)))\n",
    "model.add(Conv2D(32, kernel_size=3, activation='relu'))\n",
    "model.add(MaxPooling2D(pool_size=(2, 2)))\n",
    "model.add(Flatten())\n",
    "model.add(Dense(6, activation='sigmoid'))\n",
    "\n",
    "model.compile(optimizer='adam', loss='sparse_categorical_crossentropy', metrics=['accuracy'])\n",
    "\n",
    "model.fit(X_train, y_train, validation_data=(X_test, y_test), epochs=25, batch_size=100)"
   ]
  },
  {
   "cell_type": "markdown",
   "id": "0ddef529",
   "metadata": {},
   "source": [
    "Porównanie wyników uczenia z poprawnymi wartościami zbioru testowego, wyświetlona dokładność i macierz pomyłek:"
   ]
  },
  {
   "cell_type": "code",
   "execution_count": 50,
   "id": "b9c68e16",
   "metadata": {},
   "outputs": [
    {
     "name": "stdout",
     "output_type": "stream",
     "text": [
      "11/11 [==============================] - 2s 170ms/step\n",
      "model accuracy =  0.5462962962962963\n",
      "confusion matrix:\n",
      " [[0.47368421 0.21052632 0.         0.07017544 0.07017544 0.1754386 ]\n",
      " [0.16363636 0.61818182 0.05454545 0.07272727 0.05454545 0.03636364]\n",
      " [0.05263158 0.03508772 0.61403509 0.0877193  0.10526316 0.10526316]\n",
      " [0.15217391 0.13043478 0.08695652 0.39130435 0.19565217 0.04347826]\n",
      " [0.01724138 0.06896552 0.01724138 0.10344828 0.75862069 0.03448276]\n",
      " [0.21568627 0.21568627 0.         0.03921569 0.15686275 0.37254902]]\n"
     ]
    }
   ],
   "source": [
    "y_pred = np.argmax(model.predict(X_test), axis=1)\n",
    "accuracy = accuracy_score(y_test,y_pred)\n",
    "conf_matrix = confusion_matrix(y_test,y_pred,normalize=\"true\")\n",
    "print(\"model accuracy = \",accuracy)\n",
    "print(\"confusion matrix:\\n\",conf_matrix)"
   ]
  }
 ],
 "metadata": {
  "kernelspec": {
   "display_name": "base",
   "language": "python",
   "name": "python3"
  },
  "language_info": {
   "codemirror_mode": {
    "name": "ipython",
    "version": 3
   },
   "file_extension": ".py",
   "mimetype": "text/x-python",
   "name": "python",
   "nbconvert_exporter": "python",
   "pygments_lexer": "ipython3",
   "version": "3.10.9"
  }
 },
 "nbformat": 4,
 "nbformat_minor": 5
}
