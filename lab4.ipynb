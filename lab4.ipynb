{
  "cells": [
    {
      "cell_type": "markdown",
      "metadata": {},
      "source": [
        "Zaimportowanie funkcji i bibliotek."
      ]
    },
    {
      "cell_type": "code",
      "execution_count": null,
      "metadata": {
        "id": "dULMo9jXo5a8"
      },
      "outputs": [],
      "source": [
        "import numpy as np\n",
        "from keras import Sequential\n",
        "from keras.layers import Dense\n",
        "import pandas as pd\n",
        "from sklearn.model_selection import train_test_split\n",
        "from sklearn.metrics import confusion_matrix\n",
        "from sklearn.preprocessing import OneHotEncoder"
      ]
    },
    {
      "cell_type": "markdown",
      "metadata": {},
      "source": [
        "Wczytanie danych z pliku .csv i przeszkałcenie na numpy array."
      ]
    },
    {
      "cell_type": "code",
      "execution_count": 2,
      "metadata": {
        "colab": {
          "base_uri": "https://localhost:8080/"
        },
        "id": "xUsyQQVzpyZ4",
        "outputId": "f8303876-1101-4d6f-f57c-91066e3df11e"
      },
      "outputs": [
        {
          "name": "stdout",
          "output_type": "stream",
          "text": [
            "(10752, 73)\n",
            "[[3.36737205e-01 3.36737205e-01 4.11494823e-01 ... 4.06929871e-02\n",
            "  4.80608932e-02 1.00000000e+00]\n",
            " [4.66596949e-01 4.66596949e-01 5.42439085e-01 ... 2.59013804e-02\n",
            "  3.03419400e-02 1.00000000e+00]\n",
            " [8.20927657e-01 8.20927657e-01 9.16051832e-01 ... 1.24005115e-02\n",
            "  1.53228385e-02 1.00000000e+00]\n",
            " ...\n",
            " [2.70047982e+00 2.70047982e+00 3.57870916e+00 ... 6.39942135e-04\n",
            "  7.10401840e-04 4.00000000e+00]\n",
            " [3.22213337e+00 3.22213337e+00 4.08339017e+00 ... 5.97086450e-04\n",
            "  6.56369167e-04 4.00000000e+00]\n",
            " [3.56077756e+00 3.56077756e+00 4.57058714e+00 ... 5.13980597e-04\n",
            "  5.70952744e-04 4.00000000e+00]]\n"
          ]
        }
      ],
      "source": [
        "dane = pd.read_csv(R'/content/drive/MyDrive/texture_samples.csv',index_col=0).to_numpy()\n",
        "print(dane.shape)\n",
        "print(dane)"
      ]
    },
    {
      "cell_type": "markdown",
      "metadata": {},
      "source": [
        "Podział danych na wektory cech oraz etykiety."
      ]
    },
    {
      "cell_type": "code",
      "execution_count": 3,
      "metadata": {
        "id": "s8J51Z6Oqt5j"
      },
      "outputs": [],
      "source": [
        "X = dane[:,:-1]\n",
        "Y = dane[:,-1]\n",
        "y_int = Y.astype(int)"
      ]
    },
    {
      "cell_type": "markdown",
      "metadata": {},
      "source": [
        "Zmiana typu danych etykiet na int. Przekształcenie etykiet na OneHot - każda klasa w osobnej kolumnie."
      ]
    },
    {
      "cell_type": "code",
      "execution_count": 4,
      "metadata": {
        "colab": {
          "base_uri": "https://localhost:8080/"
        },
        "id": "jFiG05q_tQx6",
        "outputId": "4373dce5-8b76-43fc-9360-6c448e244075"
      },
      "outputs": [
        {
          "name": "stdout",
          "output_type": "stream",
          "text": [
            "[[1. 0. 0. 0.]\n",
            " [1. 0. 0. 0.]\n",
            " [1. 0. 0. 0.]\n",
            " ...\n",
            " [0. 0. 0. 1.]\n",
            " [0. 0. 0. 1.]\n",
            " [0. 0. 0. 1.]]\n"
          ]
        }
      ],
      "source": [
        "onehotenc = OneHotEncoder(sparse_output=False)\n",
        "y_onehot = onehotenc.fit_transform(y_int.reshape(-1, 1))\n",
        "print(y_onehot)"
      ]
    },
    {
      "cell_type": "markdown",
      "metadata": {},
      "source": [
        "Podział danych na treningowe i testowe."
      ]
    },
    {
      "cell_type": "code",
      "execution_count": 5,
      "metadata": {
        "id": "v5lx3fHgtU_8"
      },
      "outputs": [],
      "source": [
        "X_train, X_test, y_train, y_test = train_test_split(X, y_onehot, test_size=0.3)"
      ]
    },
    {
      "cell_type": "markdown",
      "metadata": {},
      "source": [
        "Utworzenie modelu sieci neuronowej, dodanie warstw, kompliacja modelu z odpowiednią funkcją straty i modelem optymalizacji. Uruchomienie uczenia."
      ]
    },
    {
      "cell_type": "code",
      "execution_count": null,
      "metadata": {
        "colab": {
          "base_uri": "https://localhost:8080/"
        },
        "id": "x1I3vBrZwe0A",
        "outputId": "d27d63e6-d0cf-44e2-b312-d8240fbf2ec4"
      },
      "outputs": [
        {
          "name": "stderr",
          "output_type": "stream",
          "text": [
            "/usr/local/lib/python3.11/dist-packages/keras/src/layers/core/dense.py:87: UserWarning: Do not pass an `input_shape`/`input_dim` argument to a layer. When using Sequential models, prefer using an `Input(shape)` object as the first layer in the model instead.\n",
            "  super().__init__(activity_regularizer=activity_regularizer, **kwargs)\n"
          ]
        },
        {
          "name": "stdout",
          "output_type": "stream",
          "text": [
            "Epoch 1/100\n",
            "\u001b[1m753/753\u001b[0m \u001b[32m━━━━━━━━━━━━━━━━━━━━\u001b[0m\u001b[37m\u001b[0m \u001b[1m7s\u001b[0m 6ms/step - accuracy: 0.5400 - loss: 1.0853 - val_accuracy: 0.8571 - val_loss: 0.6184\n",
            "Epoch 2/100\n",
            "\u001b[1m753/753\u001b[0m \u001b[32m━━━━━━━━━━━━━━━━━━━━\u001b[0m\u001b[37m\u001b[0m \u001b[1m3s\u001b[0m 3ms/step - accuracy: 0.8613 - loss: 0.5562 - val_accuracy: 0.9290 - val_loss: 0.4192\n",
            "Epoch 3/100\n",
            "\u001b[1m753/753\u001b[0m \u001b[32m━━━━━━━━━━━━━━━━━━━━\u001b[0m\u001b[37m\u001b[0m \u001b[1m3s\u001b[0m 4ms/step - accuracy: 0.9040 - loss: 0.4131 - val_accuracy: 0.9619 - val_loss: 0.3409\n",
            "Epoch 4/100\n",
            "\u001b[1m753/753\u001b[0m \u001b[32m━━━━━━━━━━━━━━━━━━━━\u001b[0m\u001b[37m\u001b[0m \u001b[1m5s\u001b[0m 4ms/step - accuracy: 0.9070 - loss: 0.3507 - val_accuracy: 0.9656 - val_loss: 0.2944\n",
            "Epoch 5/100\n",
            "\u001b[1m753/753\u001b[0m \u001b[32m━━━━━━━━━━━━━━━━━━━━\u001b[0m\u001b[37m\u001b[0m \u001b[1m5s\u001b[0m 3ms/step - accuracy: 0.9308 - loss: 0.2962 - val_accuracy: 0.9678 - val_loss: 0.2164\n",
            "Epoch 6/100\n",
            "\u001b[1m753/753\u001b[0m \u001b[32m━━━━━━━━━━━━━━━━━━━━\u001b[0m\u001b[37m\u001b[0m \u001b[1m3s\u001b[0m 3ms/step - accuracy: 0.9478 - loss: 0.2401 - val_accuracy: 0.8524 - val_loss: 0.3655\n",
            "Epoch 7/100\n",
            "\u001b[1m753/753\u001b[0m \u001b[32m━━━━━━━━━━━━━━━━━━━━\u001b[0m\u001b[37m\u001b[0m \u001b[1m3s\u001b[0m 3ms/step - accuracy: 0.9289 - loss: 0.2435 - val_accuracy: 0.9727 - val_loss: 0.1522\n",
            "Epoch 8/100\n",
            "\u001b[1m753/753\u001b[0m \u001b[32m━━━━━━━━━━━━━━━━━━━━\u001b[0m\u001b[37m\u001b[0m \u001b[1m3s\u001b[0m 3ms/step - accuracy: 0.9232 - loss: 0.2482 - val_accuracy: 0.8568 - val_loss: 0.2317\n",
            "Epoch 9/100\n",
            "\u001b[1m753/753\u001b[0m \u001b[32m━━━━━━━━━━━━━━━━━━━━\u001b[0m\u001b[37m\u001b[0m \u001b[1m3s\u001b[0m 4ms/step - accuracy: 0.9150 - loss: 0.2511 - val_accuracy: 0.9684 - val_loss: 0.1978\n",
            "Epoch 10/100\n",
            "\u001b[1m753/753\u001b[0m \u001b[32m━━━━━━━━━━━━━━━━━━━━\u001b[0m\u001b[37m\u001b[0m \u001b[1m2s\u001b[0m 3ms/step - accuracy: 0.9622 - loss: 0.2006 - val_accuracy: 0.9752 - val_loss: 0.1667\n",
            "Epoch 11/100\n",
            "\u001b[1m753/753\u001b[0m \u001b[32m━━━━━━━━━━━━━━━━━━━━\u001b[0m\u001b[37m\u001b[0m \u001b[1m3s\u001b[0m 4ms/step - accuracy: 0.9504 - loss: 0.2032 - val_accuracy: 0.9693 - val_loss: 0.1946\n",
            "Epoch 12/100\n",
            "\u001b[1m753/753\u001b[0m \u001b[32m━━━━━━━━━━━━━━━━━━━━\u001b[0m\u001b[37m\u001b[0m \u001b[1m3s\u001b[0m 4ms/step - accuracy: 0.9632 - loss: 0.1836 - val_accuracy: 0.9777 - val_loss: 0.1419\n",
            "Epoch 13/100\n",
            "\u001b[1m753/753\u001b[0m \u001b[32m━━━━━━━━━━━━━━━━━━━━\u001b[0m\u001b[37m\u001b[0m \u001b[1m3s\u001b[0m 4ms/step - accuracy: 0.9594 - loss: 0.1740 - val_accuracy: 0.9603 - val_loss: 0.1691\n",
            "Epoch 14/100\n",
            "\u001b[1m753/753\u001b[0m \u001b[32m━━━━━━━━━━━━━━━━━━━━\u001b[0m\u001b[37m\u001b[0m \u001b[1m3s\u001b[0m 3ms/step - accuracy: 0.9226 - loss: 0.2170 - val_accuracy: 0.8630 - val_loss: 0.3034\n",
            "Epoch 15/100\n",
            "\u001b[1m753/753\u001b[0m \u001b[32m━━━━━━━━━━━━━━━━━━━━\u001b[0m\u001b[37m\u001b[0m \u001b[1m2s\u001b[0m 3ms/step - accuracy: 0.8531 - loss: 0.3148 - val_accuracy: 0.8633 - val_loss: 0.2950\n",
            "Epoch 16/100\n",
            "\u001b[1m753/753\u001b[0m \u001b[32m━━━━━━━━━━━━━━━━━━━━\u001b[0m\u001b[37m\u001b[0m \u001b[1m3s\u001b[0m 3ms/step - accuracy: 0.8983 - loss: 0.2358 - val_accuracy: 0.8667 - val_loss: 0.2955\n",
            "Epoch 17/100\n",
            "\u001b[1m753/753\u001b[0m \u001b[32m━━━━━━━━━━━━━━━━━━━━\u001b[0m\u001b[37m\u001b[0m \u001b[1m3s\u001b[0m 4ms/step - accuracy: 0.8517 - loss: 0.3057 - val_accuracy: 0.8624 - val_loss: 0.2849\n",
            "Epoch 18/100\n",
            "\u001b[1m753/753\u001b[0m \u001b[32m━━━━━━━━━━━━━━━━━━━━\u001b[0m\u001b[37m\u001b[0m \u001b[1m4s\u001b[0m 5ms/step - accuracy: 0.8629 - loss: 0.2729 - val_accuracy: 0.8298 - val_loss: 0.2894\n",
            "Epoch 19/100\n",
            "\u001b[1m753/753\u001b[0m \u001b[32m━━━━━━━━━━━━━━━━━━━━\u001b[0m\u001b[37m\u001b[0m \u001b[1m4s\u001b[0m 3ms/step - accuracy: 0.9313 - loss: 0.2165 - val_accuracy: 0.8658 - val_loss: 0.2793\n",
            "Epoch 20/100\n",
            "\u001b[1m753/753\u001b[0m \u001b[32m━━━━━━━━━━━━━━━━━━━━\u001b[0m\u001b[37m\u001b[0m \u001b[1m3s\u001b[0m 4ms/step - accuracy: 0.9386 - loss: 0.1786 - val_accuracy: 0.9836 - val_loss: 0.1242\n",
            "Epoch 21/100\n",
            "\u001b[1m753/753\u001b[0m \u001b[32m━━━━━━━━━━━━━━━━━━━━\u001b[0m\u001b[37m\u001b[0m \u001b[1m5s\u001b[0m 4ms/step - accuracy: 0.9788 - loss: 0.1239 - val_accuracy: 0.9864 - val_loss: 0.0938\n",
            "Epoch 22/100\n",
            "\u001b[1m753/753\u001b[0m \u001b[32m━━━━━━━━━━━━━━━━━━━━\u001b[0m\u001b[37m\u001b[0m \u001b[1m4s\u001b[0m 3ms/step - accuracy: 0.9720 - loss: 0.1226 - val_accuracy: 0.9888 - val_loss: 0.0880\n",
            "Epoch 23/100\n",
            "\u001b[1m753/753\u001b[0m \u001b[32m━━━━━━━━━━━━━━━━━━━━\u001b[0m\u001b[37m\u001b[0m \u001b[1m3s\u001b[0m 3ms/step - accuracy: 0.9782 - loss: 0.1123 - val_accuracy: 0.9808 - val_loss: 0.1812\n",
            "Epoch 24/100\n",
            "\u001b[1m753/753\u001b[0m \u001b[32m━━━━━━━━━━━━━━━━━━━━\u001b[0m\u001b[37m\u001b[0m \u001b[1m3s\u001b[0m 4ms/step - accuracy: 0.9504 - loss: 0.1918 - val_accuracy: 0.7560 - val_loss: 0.3544\n",
            "Epoch 25/100\n",
            "\u001b[1m753/753\u001b[0m \u001b[32m━━━━━━━━━━━━━━━━━━━━\u001b[0m\u001b[37m\u001b[0m \u001b[1m5s\u001b[0m 3ms/step - accuracy: 0.8100 - loss: 0.3336 - val_accuracy: 0.9789 - val_loss: 0.1693\n",
            "Epoch 26/100\n",
            "\u001b[1m753/753\u001b[0m \u001b[32m━━━━━━━━━━━━━━━━━━━━\u001b[0m\u001b[37m\u001b[0m \u001b[1m2s\u001b[0m 3ms/step - accuracy: 0.9351 - loss: 0.1991 - val_accuracy: 0.9857 - val_loss: 0.0957\n",
            "Epoch 27/100\n",
            "\u001b[1m753/753\u001b[0m \u001b[32m━━━━━━━━━━━━━━━━━━━━\u001b[0m\u001b[37m\u001b[0m \u001b[1m3s\u001b[0m 4ms/step - accuracy: 0.9754 - loss: 0.1136 - val_accuracy: 0.9873 - val_loss: 0.0929\n",
            "Epoch 28/100\n",
            "\u001b[1m753/753\u001b[0m \u001b[32m━━━━━━━━━━━━━━━━━━━━\u001b[0m\u001b[37m\u001b[0m \u001b[1m2s\u001b[0m 3ms/step - accuracy: 0.9610 - loss: 0.1416 - val_accuracy: 0.9830 - val_loss: 0.1369\n",
            "Epoch 29/100\n",
            "\u001b[1m753/753\u001b[0m \u001b[32m━━━━━━━━━━━━━━━━━━━━\u001b[0m\u001b[37m\u001b[0m \u001b[1m3s\u001b[0m 4ms/step - accuracy: 0.8956 - loss: 0.2326 - val_accuracy: 0.9833 - val_loss: 0.1046\n",
            "Epoch 30/100\n",
            "\u001b[1m753/753\u001b[0m \u001b[32m━━━━━━━━━━━━━━━━━━━━\u001b[0m\u001b[37m\u001b[0m \u001b[1m3s\u001b[0m 4ms/step - accuracy: 0.9744 - loss: 0.1127 - val_accuracy: 0.9138 - val_loss: 0.2237\n",
            "Epoch 31/100\n",
            "\u001b[1m753/753\u001b[0m \u001b[32m━━━━━━━━━━━━━━━━━━━━\u001b[0m\u001b[37m\u001b[0m \u001b[1m4s\u001b[0m 3ms/step - accuracy: 0.9270 - loss: 0.1905 - val_accuracy: 0.9185 - val_loss: 0.2608\n",
            "Epoch 32/100\n",
            "\u001b[1m753/753\u001b[0m \u001b[32m━━━━━━━━━━━━━━━━━━━━\u001b[0m\u001b[37m\u001b[0m \u001b[1m2s\u001b[0m 3ms/step - accuracy: 0.8557 - loss: 0.3024 - val_accuracy: 0.8906 - val_loss: 0.3356\n",
            "Epoch 33/100\n",
            "\u001b[1m753/753\u001b[0m \u001b[32m━━━━━━━━━━━━━━━━━━━━\u001b[0m\u001b[37m\u001b[0m \u001b[1m3s\u001b[0m 4ms/step - accuracy: 0.8917 - loss: 0.2834 - val_accuracy: 0.9129 - val_loss: 0.2095\n",
            "Epoch 34/100\n",
            "\u001b[1m753/753\u001b[0m \u001b[32m━━━━━━━━━━━━━━━━━━━━\u001b[0m\u001b[37m\u001b[0m \u001b[1m6s\u001b[0m 5ms/step - accuracy: 0.9091 - loss: 0.2310 - val_accuracy: 0.9768 - val_loss: 0.1386\n",
            "Epoch 35/100\n",
            "\u001b[1m753/753\u001b[0m \u001b[32m━━━━━━━━━━━━━━━━━━━━\u001b[0m\u001b[37m\u001b[0m \u001b[1m2s\u001b[0m 3ms/step - accuracy: 0.9066 - loss: 0.2197 - val_accuracy: 0.9200 - val_loss: 0.2717\n",
            "Epoch 36/100\n",
            "\u001b[1m753/753\u001b[0m \u001b[32m━━━━━━━━━━━━━━━━━━━━\u001b[0m\u001b[37m\u001b[0m \u001b[1m2s\u001b[0m 3ms/step - accuracy: 0.9121 - loss: 0.2203 - val_accuracy: 0.9758 - val_loss: 0.1072\n",
            "Epoch 37/100\n",
            "\u001b[1m753/753\u001b[0m \u001b[32m━━━━━━━━━━━━━━━━━━━━\u001b[0m\u001b[37m\u001b[0m \u001b[1m3s\u001b[0m 4ms/step - accuracy: 0.9598 - loss: 0.1229 - val_accuracy: 0.9644 - val_loss: 0.1195\n",
            "Epoch 38/100\n",
            "\u001b[1m753/753\u001b[0m \u001b[32m━━━━━━━━━━━━━━━━━━━━\u001b[0m\u001b[37m\u001b[0m \u001b[1m4s\u001b[0m 3ms/step - accuracy: 0.9373 - loss: 0.1553 - val_accuracy: 0.9743 - val_loss: 0.1012\n",
            "Epoch 39/100\n",
            "\u001b[1m753/753\u001b[0m \u001b[32m━━━━━━━━━━━━━━━━━━━━\u001b[0m\u001b[37m\u001b[0m \u001b[1m3s\u001b[0m 3ms/step - accuracy: 0.9622 - loss: 0.1144 - val_accuracy: 0.9795 - val_loss: 0.0914\n",
            "Epoch 40/100\n",
            "\u001b[1m753/753\u001b[0m \u001b[32m━━━━━━━━━━━━━━━━━━━━\u001b[0m\u001b[37m\u001b[0m \u001b[1m2s\u001b[0m 3ms/step - accuracy: 0.9310 - loss: 0.1682 - val_accuracy: 0.9327 - val_loss: 0.2224\n",
            "Epoch 41/100\n",
            "\u001b[1m753/753\u001b[0m \u001b[32m━━━━━━━━━━━━━━━━━━━━\u001b[0m\u001b[37m\u001b[0m \u001b[1m3s\u001b[0m 4ms/step - accuracy: 0.9599 - loss: 0.1302 - val_accuracy: 0.7660 - val_loss: 0.3378\n",
            "Epoch 42/100\n",
            "\u001b[1m753/753\u001b[0m \u001b[32m━━━━━━━━━━━━━━━━━━━━\u001b[0m\u001b[37m\u001b[0m \u001b[1m5s\u001b[0m 3ms/step - accuracy: 0.9361 - loss: 0.1435 - val_accuracy: 0.9712 - val_loss: 0.1027\n",
            "Epoch 43/100\n",
            "\u001b[1m753/753\u001b[0m \u001b[32m━━━━━━━━━━━━━━━━━━━━\u001b[0m\u001b[37m\u001b[0m \u001b[1m3s\u001b[0m 4ms/step - accuracy: 0.9754 - loss: 0.0884 - val_accuracy: 0.9808 - val_loss: 0.0782\n",
            "Epoch 44/100\n",
            "\u001b[1m753/753\u001b[0m \u001b[32m━━━━━━━━━━━━━━━━━━━━\u001b[0m\u001b[37m\u001b[0m \u001b[1m2s\u001b[0m 3ms/step - accuracy: 0.9711 - loss: 0.0912 - val_accuracy: 0.9712 - val_loss: 0.1035\n",
            "Epoch 45/100\n",
            "\u001b[1m753/753\u001b[0m \u001b[32m━━━━━━━━━━━━━━━━━━━━\u001b[0m\u001b[37m\u001b[0m \u001b[1m3s\u001b[0m 4ms/step - accuracy: 0.9793 - loss: 0.0879 - val_accuracy: 0.9814 - val_loss: 0.0849\n",
            "Epoch 46/100\n",
            "\u001b[1m753/753\u001b[0m \u001b[32m━━━━━━━━━━━━━━━━━━━━\u001b[0m\u001b[37m\u001b[0m \u001b[1m2s\u001b[0m 3ms/step - accuracy: 0.9781 - loss: 0.0844 - val_accuracy: 0.9792 - val_loss: 0.0744\n",
            "Epoch 47/100\n",
            "\u001b[1m753/753\u001b[0m \u001b[32m━━━━━━━━━━━━━━━━━━━━\u001b[0m\u001b[37m\u001b[0m \u001b[1m3s\u001b[0m 4ms/step - accuracy: 0.9755 - loss: 0.0983 - val_accuracy: 0.9513 - val_loss: 0.1111\n",
            "Epoch 48/100\n",
            "\u001b[1m753/753\u001b[0m \u001b[32m━━━━━━━━━━━━━━━━━━━━\u001b[0m\u001b[37m\u001b[0m \u001b[1m5s\u001b[0m 3ms/step - accuracy: 0.9715 - loss: 0.0953 - val_accuracy: 0.9851 - val_loss: 0.0950\n",
            "Epoch 49/100\n",
            "\u001b[1m753/753\u001b[0m \u001b[32m━━━━━━━━━━━━━━━━━━━━\u001b[0m\u001b[37m\u001b[0m \u001b[1m3s\u001b[0m 5ms/step - accuracy: 0.9808 - loss: 0.1000 - val_accuracy: 0.9836 - val_loss: 0.0780\n",
            "Epoch 50/100\n",
            "\u001b[1m753/753\u001b[0m \u001b[32m━━━━━━━━━━━━━━━━━━━━\u001b[0m\u001b[37m\u001b[0m \u001b[1m4s\u001b[0m 3ms/step - accuracy: 0.9581 - loss: 0.1198 - val_accuracy: 0.9817 - val_loss: 0.0746\n",
            "Epoch 51/100\n",
            "\u001b[1m753/753\u001b[0m \u001b[32m━━━━━━━━━━━━━━━━━━━━\u001b[0m\u001b[37m\u001b[0m \u001b[1m3s\u001b[0m 4ms/step - accuracy: 0.9782 - loss: 0.0795 - val_accuracy: 0.9644 - val_loss: 0.1017\n",
            "Epoch 52/100\n",
            "\u001b[1m753/753\u001b[0m \u001b[32m━━━━━━━━━━━━━━━━━━━━\u001b[0m\u001b[37m\u001b[0m \u001b[1m3s\u001b[0m 4ms/step - accuracy: 0.9778 - loss: 0.0757 - val_accuracy: 0.9870 - val_loss: 0.0687\n",
            "Epoch 53/100\n",
            "\u001b[1m753/753\u001b[0m \u001b[32m━━━━━━━━━━━━━━━━━━━━\u001b[0m\u001b[37m\u001b[0m \u001b[1m5s\u001b[0m 3ms/step - accuracy: 0.9791 - loss: 0.0743 - val_accuracy: 0.9684 - val_loss: 0.0988\n",
            "Epoch 54/100\n",
            "\u001b[1m753/753\u001b[0m \u001b[32m━━━━━━━━━━━━━━━━━━━━\u001b[0m\u001b[37m\u001b[0m \u001b[1m2s\u001b[0m 3ms/step - accuracy: 0.9806 - loss: 0.0755 - val_accuracy: 0.9817 - val_loss: 0.0699\n",
            "Epoch 55/100\n",
            "\u001b[1m753/753\u001b[0m \u001b[32m━━━━━━━━━━━━━━━━━━━━\u001b[0m\u001b[37m\u001b[0m \u001b[1m2s\u001b[0m 3ms/step - accuracy: 0.9765 - loss: 0.0743 - val_accuracy: 0.9814 - val_loss: 0.0656\n",
            "Epoch 56/100\n",
            "\u001b[1m753/753\u001b[0m \u001b[32m━━━━━━━━━━━━━━━━━━━━\u001b[0m\u001b[37m\u001b[0m \u001b[1m3s\u001b[0m 4ms/step - accuracy: 0.9817 - loss: 0.0627 - val_accuracy: 0.9876 - val_loss: 0.0662\n",
            "Epoch 57/100\n",
            "\u001b[1m753/753\u001b[0m \u001b[32m━━━━━━━━━━━━━━━━━━━━\u001b[0m\u001b[37m\u001b[0m \u001b[1m4s\u001b[0m 3ms/step - accuracy: 0.9758 - loss: 0.0768 - val_accuracy: 0.9861 - val_loss: 0.0645\n",
            "Epoch 58/100\n",
            "\u001b[1m753/753\u001b[0m \u001b[32m━━━━━━━━━━━━━━━━━━━━\u001b[0m\u001b[37m\u001b[0m \u001b[1m2s\u001b[0m 3ms/step - accuracy: 0.9839 - loss: 0.0644 - val_accuracy: 0.9870 - val_loss: 0.0612\n",
            "Epoch 59/100\n",
            "\u001b[1m753/753\u001b[0m \u001b[32m━━━━━━━━━━━━━━━━━━━━\u001b[0m\u001b[37m\u001b[0m \u001b[1m2s\u001b[0m 3ms/step - accuracy: 0.9538 - loss: 0.1398 - val_accuracy: 0.9423 - val_loss: 0.1734\n",
            "Epoch 60/100\n",
            "\u001b[1m753/753\u001b[0m \u001b[32m━━━━━━━━━━━━━━━━━━━━\u001b[0m\u001b[37m\u001b[0m \u001b[1m3s\u001b[0m 4ms/step - accuracy: 0.9708 - loss: 0.1181 - val_accuracy: 0.9783 - val_loss: 0.1068\n",
            "Epoch 61/100\n",
            "\u001b[1m753/753\u001b[0m \u001b[32m━━━━━━━━━━━━━━━━━━━━\u001b[0m\u001b[37m\u001b[0m \u001b[1m3s\u001b[0m 4ms/step - accuracy: 0.9779 - loss: 0.0992 - val_accuracy: 0.9730 - val_loss: 0.1105\n",
            "Epoch 62/100\n",
            "\u001b[1m753/753\u001b[0m \u001b[32m━━━━━━━━━━━━━━━━━━━━\u001b[0m\u001b[37m\u001b[0m \u001b[1m2s\u001b[0m 3ms/step - accuracy: 0.9499 - loss: 0.1502 - val_accuracy: 0.9805 - val_loss: 0.0962\n",
            "Epoch 63/100\n",
            "\u001b[1m753/753\u001b[0m \u001b[32m━━━━━━━━━━━━━━━━━━━━\u001b[0m\u001b[37m\u001b[0m \u001b[1m3s\u001b[0m 3ms/step - accuracy: 0.9727 - loss: 0.1044 - val_accuracy: 0.9805 - val_loss: 0.0895\n",
            "Epoch 64/100\n",
            "\u001b[1m753/753\u001b[0m \u001b[32m━━━━━━━━━━━━━━━━━━━━\u001b[0m\u001b[37m\u001b[0m \u001b[1m3s\u001b[0m 4ms/step - accuracy: 0.9793 - loss: 0.0943 - val_accuracy: 0.9845 - val_loss: 0.0868\n",
            "Epoch 65/100\n",
            "\u001b[1m753/753\u001b[0m \u001b[32m━━━━━━━━━━━━━━━━━━━━\u001b[0m\u001b[37m\u001b[0m \u001b[1m5s\u001b[0m 4ms/step - accuracy: 0.9819 - loss: 0.0876 - val_accuracy: 0.9405 - val_loss: 0.2326\n",
            "Epoch 66/100\n",
            "\u001b[1m753/753\u001b[0m \u001b[32m━━━━━━━━━━━━━━━━━━━━\u001b[0m\u001b[37m\u001b[0m \u001b[1m2s\u001b[0m 3ms/step - accuracy: 0.9691 - loss: 0.1166 - val_accuracy: 0.9811 - val_loss: 0.0843\n",
            "Epoch 67/100\n",
            "\u001b[1m753/753\u001b[0m \u001b[32m━━━━━━━━━━━━━━━━━━━━\u001b[0m\u001b[37m\u001b[0m \u001b[1m3s\u001b[0m 3ms/step - accuracy: 0.9792 - loss: 0.0879 - val_accuracy: 0.9678 - val_loss: 0.0989\n",
            "Epoch 68/100\n",
            "\u001b[1m753/753\u001b[0m \u001b[32m━━━━━━━━━━━━━━━━━━━━\u001b[0m\u001b[37m\u001b[0m \u001b[1m2s\u001b[0m 3ms/step - accuracy: 0.9641 - loss: 0.1244 - val_accuracy: 0.9845 - val_loss: 0.0800\n",
            "Epoch 69/100\n",
            "\u001b[1m753/753\u001b[0m \u001b[32m━━━━━━━━━━━━━━━━━━━━\u001b[0m\u001b[37m\u001b[0m \u001b[1m3s\u001b[0m 3ms/step - accuracy: 0.9751 - loss: 0.1297 - val_accuracy: 0.7917 - val_loss: 0.3475\n",
            "Epoch 70/100\n",
            "\u001b[1m753/753\u001b[0m \u001b[32m━━━━━━━━━━━━━━━━━━━━\u001b[0m\u001b[37m\u001b[0m \u001b[1m5s\u001b[0m 3ms/step - accuracy: 0.9344 - loss: 0.1654 - val_accuracy: 0.9774 - val_loss: 0.0907\n",
            "Epoch 71/100\n",
            "\u001b[1m753/753\u001b[0m \u001b[32m━━━━━━━━━━━━━━━━━━━━\u001b[0m\u001b[37m\u001b[0m \u001b[1m3s\u001b[0m 3ms/step - accuracy: 0.9709 - loss: 0.1037 - val_accuracy: 0.9820 - val_loss: 0.1311\n",
            "Epoch 72/100\n",
            "\u001b[1m753/753\u001b[0m \u001b[32m━━━━━━━━━━━━━━━━━━━━\u001b[0m\u001b[37m\u001b[0m \u001b[1m3s\u001b[0m 4ms/step - accuracy: 0.9254 - loss: 0.1985 - val_accuracy: 0.8444 - val_loss: 0.2506\n",
            "Epoch 73/100\n",
            "\u001b[1m753/753\u001b[0m \u001b[32m━━━━━━━━━━━━━━━━━━━━\u001b[0m\u001b[37m\u001b[0m \u001b[1m5s\u001b[0m 4ms/step - accuracy: 0.9266 - loss: 0.2034 - val_accuracy: 0.9771 - val_loss: 0.1078\n",
            "Epoch 74/100\n",
            "\u001b[1m753/753\u001b[0m \u001b[32m━━━━━━━━━━━━━━━━━━━━\u001b[0m\u001b[37m\u001b[0m \u001b[1m3s\u001b[0m 4ms/step - accuracy: 0.9747 - loss: 0.0975 - val_accuracy: 0.9752 - val_loss: 0.0921\n",
            "Epoch 75/100\n",
            "\u001b[1m753/753\u001b[0m \u001b[32m━━━━━━━━━━━━━━━━━━━━\u001b[0m\u001b[37m\u001b[0m \u001b[1m5s\u001b[0m 3ms/step - accuracy: 0.9721 - loss: 0.0995 - val_accuracy: 0.9498 - val_loss: 0.1272\n",
            "Epoch 76/100\n",
            "\u001b[1m753/753\u001b[0m \u001b[32m━━━━━━━━━━━━━━━━━━━━\u001b[0m\u001b[37m\u001b[0m \u001b[1m3s\u001b[0m 4ms/step - accuracy: 0.9692 - loss: 0.1082 - val_accuracy: 0.9795 - val_loss: 0.0835\n",
            "Epoch 77/100\n",
            "\u001b[1m753/753\u001b[0m \u001b[32m━━━━━━━━━━━━━━━━━━━━\u001b[0m\u001b[37m\u001b[0m \u001b[1m3s\u001b[0m 3ms/step - accuracy: 0.9797 - loss: 0.0828 - val_accuracy: 0.9693 - val_loss: 0.2396\n",
            "Epoch 78/100\n",
            "\u001b[1m753/753\u001b[0m \u001b[32m━━━━━━━━━━━━━━━━━━━━\u001b[0m\u001b[37m\u001b[0m \u001b[1m3s\u001b[0m 4ms/step - accuracy: 0.9646 - loss: 0.1508 - val_accuracy: 0.9795 - val_loss: 0.0798\n",
            "Epoch 79/100\n",
            "\u001b[1m753/753\u001b[0m \u001b[32m━━━━━━━━━━━━━━━━━━━━\u001b[0m\u001b[37m\u001b[0m \u001b[1m2s\u001b[0m 3ms/step - accuracy: 0.9748 - loss: 0.0732 - val_accuracy: 0.9814 - val_loss: 0.0700\n",
            "Epoch 80/100\n",
            "\u001b[1m753/753\u001b[0m \u001b[32m━━━━━━━━━━━━━━━━━━━━\u001b[0m\u001b[37m\u001b[0m \u001b[1m2s\u001b[0m 3ms/step - accuracy: 0.9739 - loss: 0.0717 - val_accuracy: 0.9833 - val_loss: 0.0635\n",
            "Epoch 81/100\n",
            "\u001b[1m753/753\u001b[0m \u001b[32m━━━━━━━━━━━━━━━━━━━━\u001b[0m\u001b[37m\u001b[0m \u001b[1m3s\u001b[0m 4ms/step - accuracy: 0.9727 - loss: 0.0721 - val_accuracy: 0.9864 - val_loss: 0.0669\n",
            "Epoch 82/100\n",
            "\u001b[1m753/753\u001b[0m \u001b[32m━━━━━━━━━━━━━━━━━━━━\u001b[0m\u001b[37m\u001b[0m \u001b[1m2s\u001b[0m 3ms/step - accuracy: 0.9828 - loss: 0.0620 - val_accuracy: 0.9814 - val_loss: 0.0627\n",
            "Epoch 83/100\n",
            "\u001b[1m753/753\u001b[0m \u001b[32m━━━━━━━━━━━━━━━━━━━━\u001b[0m\u001b[37m\u001b[0m \u001b[1m3s\u001b[0m 4ms/step - accuracy: 0.9780 - loss: 0.0645 - val_accuracy: 0.9854 - val_loss: 0.0636\n",
            "Epoch 84/100\n",
            "\u001b[1m753/753\u001b[0m \u001b[32m━━━━━━━━━━━━━━━━━━━━\u001b[0m\u001b[37m\u001b[0m \u001b[1m5s\u001b[0m 4ms/step - accuracy: 0.9832 - loss: 0.0584 - val_accuracy: 0.9845 - val_loss: 0.0584\n",
            "Epoch 85/100\n",
            "\u001b[1m753/753\u001b[0m \u001b[32m━━━━━━━━━━━━━━━━━━━━\u001b[0m\u001b[37m\u001b[0m \u001b[1m5s\u001b[0m 3ms/step - accuracy: 0.9826 - loss: 0.0579 - val_accuracy: 0.9808 - val_loss: 0.0695\n",
            "Epoch 86/100\n",
            "\u001b[1m753/753\u001b[0m \u001b[32m━━━━━━━━━━━━━━━━━━━━\u001b[0m\u001b[37m\u001b[0m \u001b[1m2s\u001b[0m 3ms/step - accuracy: 0.9799 - loss: 0.0739 - val_accuracy: 0.9780 - val_loss: 0.0724\n",
            "Epoch 87/100\n",
            "\u001b[1m753/753\u001b[0m \u001b[32m━━━━━━━━━━━━━━━━━━━━\u001b[0m\u001b[37m\u001b[0m \u001b[1m3s\u001b[0m 4ms/step - accuracy: 0.9813 - loss: 0.0686 - val_accuracy: 0.9864 - val_loss: 0.0636\n",
            "Epoch 88/100\n",
            "\u001b[1m753/753\u001b[0m \u001b[32m━━━━━━━━━━━━━━━━━━━━\u001b[0m\u001b[37m\u001b[0m \u001b[1m5s\u001b[0m 4ms/step - accuracy: 0.9773 - loss: 0.0719 - val_accuracy: 0.9845 - val_loss: 0.0656\n",
            "Epoch 89/100\n",
            "\u001b[1m753/753\u001b[0m \u001b[32m━━━━━━━━━━━━━━━━━━━━\u001b[0m\u001b[37m\u001b[0m \u001b[1m5s\u001b[0m 4ms/step - accuracy: 0.9758 - loss: 0.0725 - val_accuracy: 0.9802 - val_loss: 0.1261\n",
            "Epoch 90/100\n",
            "\u001b[1m753/753\u001b[0m \u001b[32m━━━━━━━━━━━━━━━━━━━━\u001b[0m\u001b[37m\u001b[0m \u001b[1m3s\u001b[0m 4ms/step - accuracy: 0.9767 - loss: 0.0851 - val_accuracy: 0.9777 - val_loss: 0.0703\n",
            "Epoch 91/100\n",
            "\u001b[1m753/753\u001b[0m \u001b[32m━━━━━━━━━━━━━━━━━━━━\u001b[0m\u001b[37m\u001b[0m \u001b[1m3s\u001b[0m 3ms/step - accuracy: 0.9796 - loss: 0.0608 - val_accuracy: 0.9830 - val_loss: 0.0580\n",
            "Epoch 92/100\n",
            "\u001b[1m753/753\u001b[0m \u001b[32m━━━━━━━━━━━━━━━━━━━━\u001b[0m\u001b[37m\u001b[0m \u001b[1m6s\u001b[0m 4ms/step - accuracy: 0.9796 - loss: 0.0533 - val_accuracy: 0.9833 - val_loss: 0.0557\n",
            "Epoch 93/100\n",
            "\u001b[1m753/753\u001b[0m \u001b[32m━━━━━━━━━━━━━━━━━━━━\u001b[0m\u001b[37m\u001b[0m \u001b[1m5s\u001b[0m 4ms/step - accuracy: 0.9803 - loss: 0.0553 - val_accuracy: 0.9830 - val_loss: 0.0561\n",
            "Epoch 94/100\n",
            "\u001b[1m753/753\u001b[0m \u001b[32m━━━━━━━━━━━━━━━━━━━━\u001b[0m\u001b[37m\u001b[0m \u001b[1m3s\u001b[0m 4ms/step - accuracy: 0.9852 - loss: 0.0514 - val_accuracy: 0.9851 - val_loss: 0.0534\n",
            "Epoch 95/100\n",
            "\u001b[1m753/753\u001b[0m \u001b[32m━━━━━━━━━━━━━━━━━━━━\u001b[0m\u001b[37m\u001b[0m \u001b[1m4s\u001b[0m 5ms/step - accuracy: 0.9832 - loss: 0.0522 - val_accuracy: 0.9777 - val_loss: 0.0627\n",
            "Epoch 96/100\n",
            "\u001b[1m753/753\u001b[0m \u001b[32m━━━━━━━━━━━━━━━━━━━━\u001b[0m\u001b[37m\u001b[0m \u001b[1m4s\u001b[0m 3ms/step - accuracy: 0.9823 - loss: 0.0516 - val_accuracy: 0.9802 - val_loss: 0.0563\n",
            "Epoch 97/100\n",
            "\u001b[1m753/753\u001b[0m \u001b[32m━━━━━━━━━━━━━━━━━━━━\u001b[0m\u001b[37m\u001b[0m \u001b[1m3s\u001b[0m 4ms/step - accuracy: 0.9836 - loss: 0.0481 - val_accuracy: 0.9854 - val_loss: 0.0537\n",
            "Epoch 98/100\n",
            "\u001b[1m753/753\u001b[0m \u001b[32m━━━━━━━━━━━━━━━━━━━━\u001b[0m\u001b[37m\u001b[0m \u001b[1m5s\u001b[0m 3ms/step - accuracy: 0.9838 - loss: 0.0477 - val_accuracy: 0.9780 - val_loss: 0.0593\n",
            "Epoch 99/100\n",
            "\u001b[1m753/753\u001b[0m \u001b[32m━━━━━━━━━━━━━━━━━━━━\u001b[0m\u001b[37m\u001b[0m \u001b[1m3s\u001b[0m 4ms/step - accuracy: 0.9798 - loss: 0.0547 - val_accuracy: 0.9826 - val_loss: 0.0548\n",
            "Epoch 100/100\n",
            "\u001b[1m753/753\u001b[0m \u001b[32m━━━━━━━━━━━━━━━━━━━━\u001b[0m\u001b[37m\u001b[0m \u001b[1m3s\u001b[0m 4ms/step - accuracy: 0.9865 - loss: 0.0477 - val_accuracy: 0.9836 - val_loss: 0.0525\n"
          ]
        },
        {
          "data": {
            "text/plain": [
              "<keras.src.callbacks.history.History at 0x7e6634150250>"
            ]
          },
          "execution_count": 6,
          "metadata": {},
          "output_type": "execute_result"
        }
      ],
      "source": [
        "# Utwórz model\n",
        "model = Sequential()\n",
        "\n",
        "# Dodaj warstwy modelu\n",
        "model.add(Dense(10, activation='sigmoid', input_dim=72)) #pierwsza warstwa\n",
        "model.add(Dense(4, activation='softmax')) #druga warstwa\n",
        "\n",
        "# Skompiluj model, używając miary dokładności\n",
        "model.compile(optimizer='sgd', loss='categorical_crossentropy', metrics=['accuracy'])\n",
        "\n",
        "# Trenuj model\n",
        "model.fit(X_train, y_train, validation_data=(X_test, y_test), epochs=100, batch_size=10, shuffle=True)"
      ]
    },
    {
      "cell_type": "markdown",
      "metadata": {},
      "source": [
        "Wykonanie predykcji na nauczonym modelu. Porównanie wyników z poprawnym przypisaniem do klas za pomocą macierzy pomyłek."
      ]
    },
    {
      "cell_type": "code",
      "execution_count": 7,
      "metadata": {
        "colab": {
          "base_uri": "https://localhost:8080/"
        },
        "id": "FhVBLD1Yzd1z",
        "outputId": "a49a4b1e-6de7-43c1-b1db-171a8c723748"
      },
      "outputs": [
        {
          "name": "stdout",
          "output_type": "stream",
          "text": [
            "\u001b[1m101/101\u001b[0m \u001b[32m━━━━━━━━━━━━━━━━━━━━\u001b[0m\u001b[37m\u001b[0m \u001b[1m1s\u001b[0m 4ms/step\n",
            "[[809   0   6   0]\n",
            " [  2 766   0  20]\n",
            " [ 11   0 804   0]\n",
            " [  0  14   0 794]]\n"
          ]
        }
      ],
      "source": [
        "y_pred = model.predict(X_test)\n",
        "y_pred_int = np.argmax(y_pred, axis=1)\n",
        "y_test_int = np.argmax(y_test, axis=1)\n",
        "cm = confusion_matrix(y_test_int, y_pred_int)\n",
        "print(cm)"
      ]
    }
  ],
  "metadata": {
    "accelerator": "GPU",
    "colab": {
      "gpuType": "T4",
      "provenance": []
    },
    "kernelspec": {
      "display_name": "Python 3",
      "name": "python3"
    },
    "language_info": {
      "name": "python"
    }
  },
  "nbformat": 4,
  "nbformat_minor": 0
}
